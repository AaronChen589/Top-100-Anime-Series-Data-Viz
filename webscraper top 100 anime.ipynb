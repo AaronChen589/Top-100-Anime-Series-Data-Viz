{
 "cells": [
  {
   "cell_type": "code",
   "execution_count": 340,
   "metadata": {},
   "outputs": [],
   "source": [
    "import requests\n",
    "import pandas as pd\n",
    "from bs4 import BeautifulSoup\n",
    "import re\n",
    "import csv\n"
   ]
  },
  {
   "cell_type": "code",
   "execution_count": 341,
   "metadata": {},
   "outputs": [],
   "source": [
    "# Top 100 Anime of all time according to stakeholder\n",
    "url = \"https://www.imdb.com/list/ls057577566/\"\n",
    "response = requests.get(url)\n",
    "soup = BeautifulSoup(response.content,'html.parser')"
   ]
  },
  {
   "cell_type": "code",
   "execution_count": 342,
   "metadata": {},
   "outputs": [],
   "source": [
    "# Create lists for data to be scraped into\n",
    "name = []   # name of the anime\n",
    "rating = []  # overall rating of the anime\n",
    "aired_duration = [] # released year - end year\n",
    "average_runtime = [] # average duration of each anime episode\n",
    "genre = [] # genre of the anime\n",
    "MPAA_rating = [] # MPAA rating\n",
    "votes = []\n",
    "personal_ranking= list(range(1,101)) # stakeholder's ranking"
   ]
  },
  {
   "cell_type": "code",
   "execution_count": 343,
   "metadata": {},
   "outputs": [],
   "source": [
    "# Use bs4 to place all 100 anime tv-shows into a list\n",
    "anime_data = soup.find_all('div', attrs={'class':'lister-item mode-detail'})"
   ]
  },
  {
   "cell_type": "code",
   "execution_count": 344,
   "metadata": {},
   "outputs": [],
   "source": [
    "# iterate through all 100 movies\n",
    "for data in anime_data:\n",
    "    # extract all the names of the animes\n",
    "    name.append(data.h3.a.text)  \n",
    "\n",
    "    # extract all the aired_duration of the animes\n",
    "    aired_duration.append(data.find(string=re.compile(r'\\(.*\\)')))\n",
    "\n",
    "    # extract all the genres of the animes\n",
    "    genre.append(data.p.find('span', attrs={'class':'genre'}).text)\n",
    "\n",
    "    # extract all the mpaa certificates of the animes\n",
    "    mpaa_review = data.p.find('span',class_='certificate')\n",
    "    if mpaa_review:\n",
    "        MPAA_rating.append(mpaa_review.text) \n",
    "    else:\n",
    "        MPAA_rating.append('None')\n",
    "\n",
    "    # extract all the average run time of the animes\n",
    "    runtime_span = data.p.find('span', class_='runtime')\n",
    "    if runtime_span:\n",
    "        average_runtime.append(runtime_span.text)\n",
    "    else:\n",
    "        average_runtime.append(\"None\")\n",
    "\n",
    "    # extract all the ratings of the animes\n",
    "    rate = data.find('span',class_='ipl-rating-star__rating')\n",
    "    if rate:\n",
    "        rating.append(rate.text)\n",
    "    else:\n",
    "        rating.append('None')\n",
    "\n",
    "    # extract all the votes of the animes\n",
    "    vote = data.find('span', attrs={'name':'nv'})\n",
    "    if vote:\n",
    "        votes.append(vote.text)\n",
    "    else:\n",
    "        votes.append(\"None\")\n"
   ]
  },
  {
   "cell_type": "code",
   "execution_count": 345,
   "metadata": {},
   "outputs": [],
   "source": [
    "# cleaned the genre array by stripping the whitespaces and newlines within each element\n",
    "temp_genre = []\n",
    "for typ in genre:\n",
    "    temp_genre.append(typ.strip())\n",
    "genre = temp_genre"
   ]
  },
  {
   "cell_type": "code",
   "execution_count": 346,
   "metadata": {},
   "outputs": [],
   "source": [
    "# split the genres into a list data type\n",
    "temp_genre = []\n",
    "for x in genre:\n",
    "    result = x.split(\",\")\n",
    "    result.pop(0)  # pop out the animation genre since anime is animation by default\n",
    "    temp_genre.append(result)\n",
    "genre = [[ typ.strip() for typ in sub_list ] for sub_list in temp_genre] #strip the whitespace within each sublist's elements"
   ]
  },
  {
   "cell_type": "code",
   "execution_count": 347,
   "metadata": {},
   "outputs": [],
   "source": [
    "# cleaned the aired_duration array by removing all the parentheses from each element\n",
    "aired_duration = [s.replace('(', '').replace(')', '') for s in  aired_duration]\n",
    "\n",
    "# split the aired duration to starting_year and ending_year\n",
    "year_started = []\n",
    "year_ended = []\n",
    "for years in aired_duration:\n",
    "    result = re.match(r\"(\\d{4})(?:–(\\d{4}))?\", years)\n",
    "\n",
    "    if result.group(2) is not None:  # if the end year is None, the anime is still airing\n",
    "            year_started.append(result.group(1))\n",
    "            year_ended.append(result.group(2))\n",
    "    else:\n",
    "        year_started.append(result.group(1))\n",
    "        year_ended.append(\"None\")\n",
    "\n",
    "# converted the years into integers\n",
    "year_started = [int(x) if x != \"None\" else \"None\" for x in year_started]\n",
    "year_ended = [int(x) if x != \"None\" else \"None\" for x in year_ended]"
   ]
  },
  {
   "cell_type": "code",
   "execution_count": 348,
   "metadata": {},
   "outputs": [],
   "source": [
    "# cleaned the average_runtime array by removing the minutes part from each element\n",
    "average_runtime  = [int(t.replace(' min', '')) if t != \"None\" else \"None\" for t in average_runtime]"
   ]
  },
  {
   "cell_type": "code",
   "execution_count": 349,
   "metadata": {},
   "outputs": [],
   "source": [
    "# write all the columns into the csv file\n",
    "with open(\"scraped_top_100_anime.csv\", \"w\", newline='') as file:\n",
    "    writer = csv.writer(file)\n",
    "    writer.writerow([\"title\", \"rating\", \"starting_year\",\"ending_year\",\"average_runtime\", \"genre\",\"MPAA_rating\", \"votes\", \"personal_ranking\"])\n",
    "    for title, score, starting_duration, ending_duration, avg_time, genres, mpaa, vote, rank in zip(name,rating,year_started,year_ended,average_runtime,genre,MPAA_rating,votes,personal_ranking):\n",
    "        writer.writerow([title, score, starting_duration, ending_duration, avg_time, genres, mpaa, vote, rank])\n"
   ]
  }
 ],
 "metadata": {
  "kernelspec": {
   "display_name": "Python 3",
   "language": "python",
   "name": "python3"
  },
  "language_info": {
   "codemirror_mode": {
    "name": "ipython",
    "version": 3
   },
   "file_extension": ".py",
   "mimetype": "text/x-python",
   "name": "python",
   "nbconvert_exporter": "python",
   "pygments_lexer": "ipython3",
   "version": "3.11.1"
  }
 },
 "nbformat": 4,
 "nbformat_minor": 2
}
